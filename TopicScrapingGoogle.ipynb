{
 "cells": [
  {
   "cell_type": "code",
   "execution_count": null,
   "metadata": {},
   "outputs": [],
   "source": [
    "# Required Parameters\n",
    "query = \"Jobs Created by AI\"\n",
    "\n",
    "# Optional Parameters\n",
    "no_of_urls=25\n",
    "region=\"\"\n",
    "recency = \"\"\n",
    "typ=\"all\"\n",
    "word_search_list=[]\n",
    "common_word_list=[]\n",
    "\n",
    "\n",
    "from GoogleScrape import *\n",
    "\n",
    "short_query = query.replace(\" \",\"\")\n",
    "os.makedirs(\"Topics\", exist_ok = True)\n",
    "os.makedirs(\"Topics/\"+short_query, exist_ok = True)\n",
    "os.makedirs(\"Topics/\"+short_query+\"/Data\", exist_ok = True)\n",
    "os.makedirs(\"Topics/\"+short_query+\"/videos\", exist_ok = True)\n",
    "\n",
    "get_google_webscrape(query, region=region, no_of_urls=no_of_urls, recency=recency, typ=typ, word_search_list=word_search_list, common_word_list=common_word_list)"
   ]
  }
 ],
 "metadata": {
  "kernelspec": {
   "display_name": "venv",
   "language": "python",
   "name": "python3"
  },
  "language_info": {
   "name": "python",
   "version": "3.10.11"
  },
  "orig_nbformat": 4
 },
 "nbformat": 4,
 "nbformat_minor": 2
}
